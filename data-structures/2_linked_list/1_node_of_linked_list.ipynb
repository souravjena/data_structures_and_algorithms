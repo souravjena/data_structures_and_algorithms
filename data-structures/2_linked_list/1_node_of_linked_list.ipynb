{
 "cells": [
  {
   "cell_type": "code",
   "execution_count": 1,
   "metadata": {},
   "outputs": [],
   "source": [
    "class Node:\n",
    "    # Constructor\n",
    "    def __init__(self, data):\n",
    "        self.data = data\n",
    "        self.next = None"
   ]
  },
  {
   "cell_type": "code",
   "execution_count": 3,
   "metadata": {},
   "outputs": [
    {
     "name": "stdout",
     "output_type": "stream",
     "text": [
      "10->20->30\n",
      "<__main__.Node object at 0x7fa91c9b7f60> <__main__.Node object at 0x7fa91c154048> None\n"
     ]
    }
   ],
   "source": [
    "def main():\n",
    "    # Create Nodes of LL\n",
    "    a = Node(10)\n",
    "    b = Node(20)\n",
    "    c = Node(30)\n",
    "    \n",
    "    # Connect Nodes\n",
    "    a.next = b\n",
    "    b.next = c\n",
    "    \n",
    "    # Print LL\n",
    "    print(\"{}->{}->{}\".format(a.data, a.next.data, a.next.next.data))\n",
    "    \n",
    "    # Print next attributes\n",
    "    print(a.next, b.next, c.next)\n",
    "    \n",
    "    \n",
    "\n",
    "if __name__==\"__main__\":\n",
    "    main()"
   ]
  },
  {
   "cell_type": "code",
   "execution_count": null,
   "metadata": {},
   "outputs": [],
   "source": []
  }
 ],
 "metadata": {
  "kernelspec": {
   "display_name": "Python 3",
   "language": "python",
   "name": "python3"
  },
  "language_info": {
   "codemirror_mode": {
    "name": "ipython",
    "version": 3
   },
   "file_extension": ".py",
   "mimetype": "text/x-python",
   "name": "python",
   "nbconvert_exporter": "python",
   "pygments_lexer": "ipython3",
   "version": "3.6.9"
  }
 },
 "nbformat": 4,
 "nbformat_minor": 4
}
