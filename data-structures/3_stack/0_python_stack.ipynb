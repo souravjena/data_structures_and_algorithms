{
 "cells": [
  {
   "cell_type": "code",
   "execution_count": 7,
   "metadata": {},
   "outputs": [
    {
     "name": "stdout",
     "output_type": "stream",
     "text": [
      "[]\n",
      "[11, 22, 33, 44]\n",
      "44\n",
      "11\n",
      "3 [11, 22, 33]\n"
     ]
    }
   ],
   "source": [
    "# Lists in Python can be used as a Stack\n",
    "\n",
    "'''\n",
    "* A stack has the following operation\n",
    "\n",
    "1. Push: arr.append(num)\n",
    "2. Pop: num = arr.pop()\n",
    "3. Top: top = arr[0]\n",
    "4. Size: size = len(arr)\n",
    "'''\n",
    "\n",
    "stack = []\n",
    "print(stack)\n",
    "\n",
    "\n",
    "stack.append(11)\n",
    "stack.append(22)\n",
    "stack.append(33)\n",
    "stack.append(44)\n",
    "print(stack)\n",
    "\n",
    "\n",
    "num_pop = stack.pop()\n",
    "print(num_pop)\n",
    "\n",
    "\n",
    "num_top = stack[0]\n",
    "print(num_top)\n",
    "\n",
    "\n",
    "stack_size = len(stack)\n",
    "print(stack_size, stack)"
   ]
  },
  {
   "cell_type": "code",
   "execution_count": null,
   "metadata": {},
   "outputs": [],
   "source": []
  }
 ],
 "metadata": {
  "kernelspec": {
   "display_name": "Python 3",
   "language": "python",
   "name": "python3"
  },
  "language_info": {
   "codemirror_mode": {
    "name": "ipython",
    "version": 3
   },
   "file_extension": ".py",
   "mimetype": "text/x-python",
   "name": "python",
   "nbconvert_exporter": "python",
   "pygments_lexer": "ipython3",
   "version": "3.6.9"
  }
 },
 "nbformat": 4,
 "nbformat_minor": 4
}
