{
 "cells": [
  {
   "cell_type": "markdown",
   "metadata": {},
   "source": [
    "# Binary Tree\n",
    "\n",
    "1. Print Binary Tree (Recursion)\n",
    "2. Print Binary Tree Detailed (Recursion)\n"
   ]
  },
  {
   "cell_type": "code",
   "execution_count": 1,
   "metadata": {},
   "outputs": [],
   "source": [
    "# Python does not have built-in tree support.\n",
    "# Typically, following implementation is used for Binary Tree Nodes.\n",
    "\n",
    "class BinaryTreeNode:\n",
    "    def __init__(self, val):\n",
    "        self.data = val\n",
    "        self.left = None\n",
    "        self.right = None"
   ]
  },
  {
   "cell_type": "code",
   "execution_count": 2,
   "metadata": {},
   "outputs": [],
   "source": [
    "# Create Nodes\n",
    "node1 = BinaryTreeNode(11)\n",
    "node2 = BinaryTreeNode(22)\n",
    "node3 = BinaryTreeNode(33)"
   ]
  },
  {
   "cell_type": "code",
   "execution_count": 3,
   "metadata": {},
   "outputs": [],
   "source": [
    "# Connect Nodes\n",
    "node1.left = node2\n",
    "node1.right = node3"
   ]
  },
  {
   "cell_type": "code",
   "execution_count": null,
   "metadata": {},
   "outputs": [],
   "source": []
  },
  {
   "cell_type": "code",
   "execution_count": 4,
   "metadata": {},
   "outputs": [],
   "source": [
    "# 1. Print BT\n",
    "\n",
    "def print_binary_tree(node_curr):\n",
    "    \n",
    "    # 1. Base Case\n",
    "    if (node_curr == None):\n",
    "        return\n",
    "    \n",
    "    \n",
    "    # 2. Current Problem\n",
    "    print(node_curr.data)\n",
    "    \n",
    "    \n",
    "    # 3. Recursive Case\n",
    "    print_binary_tree(node_curr.left)\n",
    "    print_binary_tree(node_curr.right)\n",
    "    \n",
    "    return\n"
   ]
  },
  {
   "cell_type": "code",
   "execution_count": 5,
   "metadata": {},
   "outputs": [
    {
     "name": "stdout",
     "output_type": "stream",
     "text": [
      "11\n",
      "22\n",
      "33\n"
     ]
    }
   ],
   "source": [
    "print_binary_tree(node1)"
   ]
  },
  {
   "cell_type": "code",
   "execution_count": 6,
   "metadata": {},
   "outputs": [],
   "source": [
    "# 1. Print BT Detailed\n",
    "\n",
    "def print_binary_tree_detailed(node_curr):\n",
    "    \n",
    "    # 1. Base Case\n",
    "    if (node_curr == None):\n",
    "        return\n",
    "    \n",
    "    \n",
    "    # 2. Current Problem\n",
    "    print(node_curr.data, end=\": \")\n",
    "    \n",
    "    if(node_curr.left is not None):\n",
    "        print(\"L[{}]\".format(node_curr.left.data), end=\", \")\n",
    "        \n",
    "    if(node_curr.right is not None):\n",
    "        print(\"R[{}]\".format(node_curr.right.data), end=\"\")\n",
    "    \n",
    "    print()\n",
    "    \n",
    "    \n",
    "    \n",
    "    # 3. Recursive Case\n",
    "    print_binary_tree(node_curr.left)\n",
    "    print()\n",
    "    \n",
    "    print_binary_tree(node_curr.right)\n",
    "    print()\n",
    "    \n",
    "    return"
   ]
  },
  {
   "cell_type": "code",
   "execution_count": 7,
   "metadata": {},
   "outputs": [
    {
     "name": "stdout",
     "output_type": "stream",
     "text": [
      "11: L[22], R[33]\n",
      "22\n",
      "\n",
      "33\n",
      "\n"
     ]
    }
   ],
   "source": [
    "print_binary_tree_detailed(node1)"
   ]
  },
  {
   "cell_type": "code",
   "execution_count": null,
   "metadata": {},
   "outputs": [],
   "source": []
  },
  {
   "cell_type": "code",
   "execution_count": 8,
   "metadata": {},
   "outputs": [],
   "source": [
    "# 3. Input BT\n",
    "\n",
    "def input_binary_tree():\n",
    "    \n",
    "    # 1. Create Current Node\n",
    "    print(\">> Enter root data: \")\n",
    "    data_root = int(input())\n",
    "    \n",
    "    if (data_root == -1):\n",
    "        return\n",
    "    \n",
    "    node_root = BinaryTreeNode(data_root)\n",
    "    \n",
    "    \n",
    "    # 2. Recursive Case - Get left and right subtree\n",
    "    subtree_left = input_binary_tree()\n",
    "    subtree_right = input_binary_tree()\n",
    "    \n",
    "    \n",
    "    # 3. Current Problem - Attach left and right subtree\n",
    "    node_root.left = subtree_left\n",
    "    node_root.right = subtree_right\n",
    "    \n",
    "    return node_root\n",
    "\n",
    "    "
   ]
  },
  {
   "cell_type": "code",
   "execution_count": 9,
   "metadata": {},
   "outputs": [
    {
     "name": "stdout",
     "output_type": "stream",
     "text": [
      ">> Enter root data: \n",
      "11\n",
      ">> Enter root data: \n",
      "-1\n",
      ">> Enter root data: \n",
      "-1\n",
      "11: \n",
      "\n",
      "\n"
     ]
    }
   ],
   "source": [
    "root = input_binary_tree()\n",
    "print_binary_tree_detailed(root)"
   ]
  },
  {
   "cell_type": "code",
   "execution_count": 14,
   "metadata": {},
   "outputs": [],
   "source": [
    "# 4. Levelwise - Input BT\n",
    "\n",
    "from collections import deque\n",
    "\n",
    "def input_binary_tree_levelwise():\n",
    "    \n",
    "    q = deque()\n",
    "    \n",
    "    # 1. Create the root node\n",
    "    print(\">> Enter root data: \")\n",
    "    data_root = int(input())\n",
    "    \n",
    "    if(data_root == -1):\n",
    "        return None\n",
    "    \n",
    "    node_root = BinaryTreeNode(data_root)\n",
    "    \n",
    "    \n",
    "    # 2. Add it to the Queue\n",
    "    q.append(node_root)\n",
    "    \n",
    "    \n",
    "    # 3. Take left and right child of all the nodes in the Queue\n",
    "    while(len(q) != 0):\n",
    "        node_curr = q.popleft()\n",
    "        \n",
    "        print(\">>>> Enter left node of [{}]: \".format(node_curr.data))\n",
    "        data_left = int(input())\n",
    "        \n",
    "        print(\">>>> Enter right node of [{}]: \".format(node_curr.data))\n",
    "        data_right = int(input())\n",
    "        \n",
    "        \n",
    "        if(data_left != -1):\n",
    "            node_left = BinaryTreeNode(data_left)\n",
    "            node_curr.left = node_left\n",
    "            q.append(node_left)\n",
    "        \n",
    "        if(data_right != -1):\n",
    "            node_right = BinaryTreeNode(data_right)\n",
    "            node_curr.right = node_right\n",
    "            q.append(node_right)\n",
    "    \n",
    "    return node_root\n"
   ]
  },
  {
   "cell_type": "code",
   "execution_count": 15,
   "metadata": {},
   "outputs": [
    {
     "name": "stdout",
     "output_type": "stream",
     "text": [
      ">> Enter root data: \n",
      "11\n",
      ">>>> Enter left node of [11]: \n",
      "22\n",
      ">>>> Enter right node of [11]: \n",
      "33\n",
      ">>>> Enter left node of [22]: \n",
      "44\n",
      ">>>> Enter right node of [22]: \n",
      "55\n",
      ">>>> Enter left node of [33]: \n",
      "-1\n",
      ">>>> Enter right node of [33]: \n",
      "-1\n",
      ">>>> Enter left node of [44]: \n",
      "-1\n",
      ">>>> Enter right node of [44]: \n",
      "-1\n",
      ">>>> Enter left node of [55]: \n",
      "-1\n",
      ">>>> Enter right node of [55]: \n",
      "-1\n",
      "\n",
      "11: L[22], R[33]\n",
      "22\n",
      "44\n",
      "55\n",
      "\n",
      "33\n",
      "\n"
     ]
    }
   ],
   "source": [
    "root = input_binary_tree_levelwise()\n",
    "print()\n",
    "print_binary_tree_detailed(root)"
   ]
  },
  {
   "cell_type": "code",
   "execution_count": 16,
   "metadata": {},
   "outputs": [],
   "source": [
    "# 5. Number of Nodes\n",
    "\n",
    "def num_nodes_binary_tree(root):\n",
    "    \n",
    "    # 1. Base Case\n",
    "    if(root is None):\n",
    "        return 0\n",
    "    \n",
    "    \n",
    "    # 2. Recursive Case\n",
    "    count_left = num_nodes_binary_tree(root.left)\n",
    "    count_right = num_nodes_binary_tree(root.right)\n",
    "    \n",
    "    \n",
    "    # 3. Current Problem\n",
    "    count = count_left + count_right + 1\n",
    "    \n",
    "    return count"
   ]
  },
  {
   "cell_type": "code",
   "execution_count": 17,
   "metadata": {},
   "outputs": [
    {
     "name": "stdout",
     "output_type": "stream",
     "text": [
      "5\n"
     ]
    }
   ],
   "source": [
    "print(num_nodes_binary_tree(root))"
   ]
  },
  {
   "cell_type": "code",
   "execution_count": null,
   "metadata": {},
   "outputs": [],
   "source": []
  }
 ],
 "metadata": {
  "kernelspec": {
   "display_name": "Python 3",
   "language": "python",
   "name": "python3"
  },
  "language_info": {
   "codemirror_mode": {
    "name": "ipython",
    "version": 3
   },
   "file_extension": ".py",
   "mimetype": "text/x-python",
   "name": "python",
   "nbconvert_exporter": "python",
   "pygments_lexer": "ipython3",
   "version": "3.6.9"
  }
 },
 "nbformat": 4,
 "nbformat_minor": 4
}
