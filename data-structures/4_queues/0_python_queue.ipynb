{
 "cells": [
  {
   "cell_type": "code",
   "execution_count": 11,
   "metadata": {},
   "outputs": [
    {
     "name": "stdout",
     "output_type": "stream",
     "text": [
      "deque([])\n"
     ]
    }
   ],
   "source": [
    "# In Python, a library is used to use a queue.\n",
    "# collections.deque -> A deque implementation -> push and pop for both end.\n",
    "\n",
    "from collections import deque\n",
    "\n",
    "queue = deque()\n",
    "print(queue)"
   ]
  },
  {
   "cell_type": "code",
   "execution_count": 12,
   "metadata": {},
   "outputs": [
    {
     "name": "stdout",
     "output_type": "stream",
     "text": [
      "deque([11, 22, 33, 44])\n"
     ]
    }
   ],
   "source": [
    "# Enqueue -> Append -> at the end i.e right\n",
    "queue.append(11)\n",
    "queue.append(22)\n",
    "queue.append(33)\n",
    "queue.append(44)\n",
    "\n",
    "print(queue)"
   ]
  },
  {
   "cell_type": "code",
   "execution_count": 13,
   "metadata": {},
   "outputs": [
    {
     "name": "stdout",
     "output_type": "stream",
     "text": [
      "deque([11, 22, 33, 44])\n",
      "deque([22, 33, 44]) 11\n",
      "deque([33, 44]) 22\n"
     ]
    }
   ],
   "source": [
    "# Dequeue -> Remove -> from start i.e left\n",
    "print(queue)\n",
    "\n",
    "num_pop = queue.popleft()\n",
    "print(queue, num_pop)\n",
    "\n",
    "num_pop = queue.popleft()\n",
    "print(queue, num_pop)"
   ]
  },
  {
   "cell_type": "code",
   "execution_count": null,
   "metadata": {},
   "outputs": [],
   "source": [
    "'''\n",
    "* Queues are mostly used in BFS\n",
    "'''"
   ]
  }
 ],
 "metadata": {
  "kernelspec": {
   "display_name": "Python 3",
   "language": "python",
   "name": "python3"
  },
  "language_info": {
   "codemirror_mode": {
    "name": "ipython",
    "version": 3
   },
   "file_extension": ".py",
   "mimetype": "text/x-python",
   "name": "python",
   "nbconvert_exporter": "python",
   "pygments_lexer": "ipython3",
   "version": "3.6.9"
  }
 },
 "nbformat": 4,
 "nbformat_minor": 4
}
