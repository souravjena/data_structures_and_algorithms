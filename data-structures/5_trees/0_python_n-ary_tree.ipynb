{
 "cells": [
  {
   "cell_type": "markdown",
   "metadata": {},
   "source": [
    "# N-Ary Trees (Generic Trees)\n",
    "\n",
    "1. TreeNode\n",
    "2. Preorder Print\n",
    "3. Preorder Print Detailed\n",
    "4. Input Tree\n",
    "5. Number of Nodes\n",
    "6. Height of the Tree\n",
    "7. Levelwise - Input\n",
    "8. Levelwise - Print"
   ]
  },
  {
   "cell_type": "code",
   "execution_count": 18,
   "metadata": {},
   "outputs": [],
   "source": [
    "# Python does not have built-in tree support. \n",
    "# Following implementation is typically used for N-ary Tree Nodes.\n",
    "\n",
    "class TreeNode:\n",
    "    def __init__(self, val):\n",
    "        self.data = val\n",
    "        self.children = list()"
   ]
  },
  {
   "cell_type": "code",
   "execution_count": 19,
   "metadata": {},
   "outputs": [],
   "source": [
    "# Create root of the Tree\n",
    "root = TreeNode(5)"
   ]
  },
  {
   "cell_type": "code",
   "execution_count": 20,
   "metadata": {},
   "outputs": [],
   "source": [
    "# Create Nodes\n",
    "n11 = TreeNode(2)\n",
    "n12 = TreeNode(9)\n",
    "n13 = TreeNode(8)\n",
    "n14 = TreeNode(7)\n",
    "\n",
    "n21 = TreeNode(15)\n",
    "n22 = TreeNode(1)"
   ]
  },
  {
   "cell_type": "code",
   "execution_count": 21,
   "metadata": {},
   "outputs": [],
   "source": [
    "# Connect Nodes\n",
    "root.children.append(n11)\n",
    "root.children.append(n12)\n",
    "root.children.append(n13)\n",
    "root.children.append(n14)\n",
    "\n",
    "n12.children.append(n21)\n",
    "n12.children.append(n22)"
   ]
  },
  {
   "cell_type": "code",
   "execution_count": 46,
   "metadata": {},
   "outputs": [],
   "source": [
    "# 1. Print the Tree\n",
    "\n",
    "# 1.1 Pre-order Printing\n",
    "def print_preorder(root):\n",
    "    \n",
    "    # Edge Case\n",
    "    if root == None:\n",
    "        return\n",
    "    \n",
    "    # Base Case\n",
    "    if len(root.children) == 0:\n",
    "        print(root.data)\n",
    "        return\n",
    "    \n",
    "    # Current Problem\n",
    "    print(root.data)\n",
    "    \n",
    "    # Recursive Case\n",
    "    for child in root.children:\n",
    "        print_preorder(child)\n",
    "    \n",
    "    return\n",
    "\n",
    "\n",
    "\n",
    "# 1.2 Detailed Pre-Order Printing - Show parent-child relation\n",
    "def print_preorder_detailed(root):\n",
    "    \n",
    "    # 0. Edge Case\n",
    "    if root == None:\n",
    "        return\n",
    "    \n",
    "    # 1. Base Case\n",
    "    if len(root.children) == 0:\n",
    "        print(\"\\n\", root.data, \":\", end=\"\")\n",
    "        return\n",
    "    \n",
    "    # 2. Current Problem\n",
    "    # Print the root and its children\n",
    "    print(\"\\n\", root.data, \":\", end=\"\")\n",
    "    \n",
    "    for child in root.children:\n",
    "        print(child.data, \",\", end=\"\")\n",
    "    \n",
    "    \n",
    "    # 3. Recursive Case\n",
    "    for child in root.children:\n",
    "        print_preorder_detailed(child)\n",
    "    \n",
    "    return\n"
   ]
  },
  {
   "cell_type": "code",
   "execution_count": 47,
   "metadata": {},
   "outputs": [
    {
     "name": "stdout",
     "output_type": "stream",
     "text": [
      "5\n",
      "2\n",
      "9\n",
      "15\n",
      "1\n",
      "8\n",
      "7\n",
      "\n",
      "\n",
      " 5 :2 ,9 ,8 ,7 ,\n",
      " 2 :\n",
      " 9 :15 ,1 ,\n",
      " 15 :\n",
      " 1 :\n",
      " 8 :\n",
      " 7 :"
     ]
    }
   ],
   "source": [
    "print_preorder(root)\n",
    "print()\n",
    "print_preorder_detailed(root)"
   ]
  },
  {
   "cell_type": "code",
   "execution_count": 57,
   "metadata": {},
   "outputs": [],
   "source": [
    "# 2. Input Tree\n",
    "\n",
    "def input_tree():\n",
    "    \n",
    "    # 1. Get root data from the user\n",
    "    print(\">> Enter root data: \")\n",
    "    root_data = int(input())\n",
    "    \n",
    "    if(root_data == -1):\n",
    "        return\n",
    "    \n",
    "    # 2. Create the root node\n",
    "    root_node = TreeNode(root_data)\n",
    "    \n",
    "    \n",
    "    # 3. Attach children to the root node (Recursively)\n",
    "    print(\">> Enter # of children of [{}]: \".format(root_data))\n",
    "    num_root_children = int(input())\n",
    "    \n",
    "    for i in range(num_root_children):\n",
    "        child_node = input_tree()\n",
    "        root_node.children.append(child_node)\n",
    "    \n",
    "    # 4. Return the root\n",
    "    return root_node"
   ]
  },
  {
   "cell_type": "code",
   "execution_count": 58,
   "metadata": {},
   "outputs": [
    {
     "name": "stdout",
     "output_type": "stream",
     "text": [
      ">> Enter root data: \n",
      "5\n",
      ">> Enter # of children of [5]: \n",
      "4\n",
      ">> Enter root data: \n",
      "2\n",
      ">> Enter # of children of [2]: \n",
      "0\n",
      ">> Enter root data: \n",
      "9\n",
      ">> Enter # of children of [9]: \n",
      "0\n",
      ">> Enter root data: \n",
      "8\n",
      ">> Enter # of children of [8]: \n",
      "0\n",
      ">> Enter root data: \n",
      "7\n",
      ">> Enter # of children of [7]: \n",
      "0\n",
      "\n",
      " 5 :2 ,9 ,8 ,7 ,\n",
      " 2 :\n",
      " 9 :\n",
      " 8 :\n",
      " 7 :"
     ]
    }
   ],
   "source": [
    "root_node = input_tree()\n",
    "print_preorder_detailed(root_node)"
   ]
  },
  {
   "cell_type": "code",
   "execution_count": 59,
   "metadata": {},
   "outputs": [],
   "source": [
    "# 3. Number of Nodes a Generic Tree has\n",
    "\n",
    "def number_nodes(root):\n",
    "    \n",
    "    # 0. Edge Case\n",
    "    if root == None:\n",
    "        return 0\n",
    "    \n",
    "    # 1. Base Case\n",
    "    if len(root.children) == 0:\n",
    "        return 1\n",
    "    \n",
    "    # 2. Current & Recursive Case\n",
    "    count = 1  # count itself\n",
    "    \n",
    "    for child in root.children:\n",
    "        count += number_nodes(child)\n",
    "    \n",
    "    return count    "
   ]
  },
  {
   "cell_type": "code",
   "execution_count": 60,
   "metadata": {},
   "outputs": [
    {
     "data": {
      "text/plain": [
       "5"
      ]
     },
     "execution_count": 60,
     "metadata": {},
     "output_type": "execute_result"
    }
   ],
   "source": [
    "number_nodes(root_node)"
   ]
  },
  {
   "cell_type": "code",
   "execution_count": 61,
   "metadata": {},
   "outputs": [],
   "source": [
    "# 4. Height of a Tree\n",
    "\n",
    "def height_tree(root):\n",
    "    \n",
    "    # 0. Edge Case\n",
    "    if root == None:\n",
    "        return 0\n",
    "    \n",
    "    # 1. Base Case\n",
    "    if len(root.children) == 0:\n",
    "        return 1\n",
    "    \n",
    "    # 2. Recursive Case\n",
    "    curr_max = 0\n",
    "    \n",
    "    for child in root.children:\n",
    "        height_subtree = height_tree(child)\n",
    "        curr_max = max(curr_max, height_subtree)\n",
    "    \n",
    "    # Current Problem\n",
    "    return (curr_max + 1)\n"
   ]
  },
  {
   "cell_type": "code",
   "execution_count": 64,
   "metadata": {},
   "outputs": [
    {
     "name": "stdout",
     "output_type": "stream",
     "text": [
      "2\n"
     ]
    }
   ],
   "source": [
    "print(height_tree(root_node))"
   ]
  },
  {
   "cell_type": "code",
   "execution_count": 65,
   "metadata": {},
   "outputs": [],
   "source": [
    "# 5. Levelwise - Take Input\n",
    "\n",
    "from collections import deque\n",
    "\n",
    "def input_tree_levelwise():\n",
    "    \n",
    "    q = deque()\n",
    "    \n",
    "    # 1. Create Current Node\n",
    "    print(\">> Enter current node data: \")\n",
    "    data_root = int(input())\n",
    "    \n",
    "    if data_root == -1:\n",
    "        return\n",
    "    \n",
    "    node_root = TreeNode(data_root)\n",
    "    \n",
    "    # 2. Push the Current node in the queue \n",
    "    q.append(node_root)\n",
    "    \n",
    "    \n",
    "    # 3. Create children of all the nodes in the Queue\n",
    "    while (len(q) != 0):\n",
    "        node_curr = q.popleft()\n",
    "        \n",
    "        print(\">> Enter # of children for [{}]: \".format(node_curr.data))\n",
    "        count_children = int(input())\n",
    "        \n",
    "        for i in range(count_children):\n",
    "            print(\">> Enter #{} child of [{}]\".format(i, node_curr.data))\n",
    "            data_child = int(input())\n",
    "            \n",
    "            node_child = TreeNode(data_child)\n",
    "            \n",
    "            node_curr.children.append(node_child)\n",
    "            q.append(node_child)\n",
    "        \n",
    "    return node_root\n",
    "\n",
    "    "
   ]
  },
  {
   "cell_type": "code",
   "execution_count": 66,
   "metadata": {},
   "outputs": [
    {
     "name": "stdout",
     "output_type": "stream",
     "text": [
      ">> Enter current node data: \n",
      "1\n",
      ">> Enter # of children for [1]: \n",
      "3\n",
      ">> Enter #0 child of [1]\n",
      "2\n",
      ">> Enter #1 child of [1]\n",
      "3\n",
      ">> Enter #2 child of [1]\n",
      "4\n",
      ">> Enter # of children for [2]: \n",
      "2\n",
      ">> Enter #0 child of [2]\n",
      "5\n",
      ">> Enter #1 child of [2]\n",
      "6\n",
      ">> Enter # of children for [3]: \n",
      "0\n",
      ">> Enter # of children for [4]: \n",
      "0\n",
      ">> Enter # of children for [5]: \n",
      "0\n",
      ">> Enter # of children for [6]: \n",
      "0\n"
     ]
    }
   ],
   "source": [
    "root = input_tree_levelwise()"
   ]
  },
  {
   "cell_type": "code",
   "execution_count": 67,
   "metadata": {},
   "outputs": [
    {
     "name": "stdout",
     "output_type": "stream",
     "text": [
      "\n",
      " 1 :2 ,3 ,4 ,\n",
      " 2 :5 ,6 ,\n",
      " 5 :\n",
      " 6 :\n",
      " 3 :\n",
      " 4 :"
     ]
    }
   ],
   "source": [
    "print_preorder_detailed(root)"
   ]
  },
  {
   "cell_type": "code",
   "execution_count": 72,
   "metadata": {},
   "outputs": [],
   "source": [
    "# 5. Levelwise - Print\n",
    "\n",
    "from collections import deque\n",
    "\n",
    "def print_tree_levelwise(node_root):\n",
    "    \n",
    "    # 1. Edge Case\n",
    "    if node_root == None:\n",
    "        return\n",
    "    \n",
    "    q = deque()\n",
    "    \n",
    "    # 2. Print and Push the Current node in the queue\n",
    "    q.append(node_root)\n",
    "    \n",
    "    \n",
    "    # 3. Print children of nodes in the Queue\n",
    "    while (len(q) != 0):\n",
    "        node_curr = q.popleft()\n",
    "        print(node_curr.data, \": \", end=\"\")\n",
    "            \n",
    "        for child in node_curr.children:\n",
    "            print(child.data, \",\", end=\"\")\n",
    "            q.append(child)\n",
    "        \n",
    "        print()\n",
    "    \n",
    "    return\n"
   ]
  },
  {
   "cell_type": "code",
   "execution_count": 73,
   "metadata": {},
   "outputs": [
    {
     "name": "stdout",
     "output_type": "stream",
     "text": [
      "1 : 2 ,3 ,4 ,\n",
      "2 : 5 ,6 ,\n",
      "3 : \n",
      "4 : \n",
      "5 : \n",
      "6 : \n"
     ]
    }
   ],
   "source": [
    "print_tree_levelwise(root)"
   ]
  },
  {
   "cell_type": "code",
   "execution_count": null,
   "metadata": {},
   "outputs": [],
   "source": []
  }
 ],
 "metadata": {
  "kernelspec": {
   "display_name": "Python 3",
   "language": "python",
   "name": "python3"
  },
  "language_info": {
   "codemirror_mode": {
    "name": "ipython",
    "version": 3
   },
   "file_extension": ".py",
   "mimetype": "text/x-python",
   "name": "python",
   "nbconvert_exporter": "python",
   "pygments_lexer": "ipython3",
   "version": "3.6.9"
  }
 },
 "nbformat": 4,
 "nbformat_minor": 4
}
