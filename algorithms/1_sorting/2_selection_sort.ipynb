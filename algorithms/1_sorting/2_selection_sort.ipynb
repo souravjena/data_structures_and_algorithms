{
 "cells": [
  {
   "cell_type": "code",
   "execution_count": 1,
   "metadata": {},
   "outputs": [],
   "source": [
    "# Selection Sort CS50: https://www.youtube.com/watch?v=3hH8kTHFw2A\n",
    "'''\n",
    "- Move the smallest element to its correct position after each iteration. {sorted region grows from left}\n",
    "'''\n",
    "def selection_sort(arr):\n",
    "\tlen_arr = len(arr) - 1\n",
    "\n",
    "\tfor start_unsort in range(len_arr):\n",
    "\t\t# Find the smallest element in the unsorted part\n",
    "\t\t\n",
    "\t\tmin_ele = arr[start_unsort]\n",
    "\t\tmin_idx = start_unsort\n",
    "\n",
    "\t\tfor i in range(start_unsort, len_arr+1):\n",
    "\t\t\tif(arr[i] < min_ele):\n",
    "\t\t\t\tmin_ele = arr[i]\n",
    "\t\t\t\tmin_idx = i\n",
    "\n",
    "\t\t# Swap min with last element of the unsorted array\n",
    "\t\ttemp = arr[start_unsort]\n",
    "\t\tarr[start_unsort] = arr[min_idx]\n",
    "\t\tarr[min_idx] = temp\n",
    "\n",
    "\treturn arr"
   ]
  },
  {
   "cell_type": "code",
   "execution_count": 2,
   "metadata": {},
   "outputs": [
    {
     "name": "stdout",
     "output_type": "stream",
     "text": [
      "[1, 2, 2, 2, 3, 4, 5, 6]\n"
     ]
    }
   ],
   "source": [
    "def main():\n",
    "\tunsorted_arr = [2, 2, 2, 1, 3, 5, 4, 6]\n",
    "\tsorted_arr = selection_sort(unsorted_arr)\n",
    "\n",
    "\tprint(sorted_arr)\n",
    "\n",
    "\n",
    "\n",
    "if __name__ == '__main__':\n",
    "\tmain()"
   ]
  },
  {
   "cell_type": "code",
   "execution_count": null,
   "metadata": {},
   "outputs": [],
   "source": []
  }
 ],
 "metadata": {
  "kernelspec": {
   "display_name": "Python 3",
   "language": "python",
   "name": "python3"
  },
  "language_info": {
   "codemirror_mode": {
    "name": "ipython",
    "version": 3
   },
   "file_extension": ".py",
   "mimetype": "text/x-python",
   "name": "python",
   "nbconvert_exporter": "python",
   "pygments_lexer": "ipython3",
   "version": "3.6.9"
  }
 },
 "nbformat": 4,
 "nbformat_minor": 4
}
