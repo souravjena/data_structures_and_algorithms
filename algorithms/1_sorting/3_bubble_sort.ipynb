{
 "cells": [
  {
   "cell_type": "code",
   "execution_count": 1,
   "metadata": {},
   "outputs": [],
   "source": [
    "# Bubble Sort CS50: https://www.youtube.com/watch?v=RT-hUXUWQ2I\n",
    "'''\n",
    "- \"Bubble\" the largest element to its correct position after each iteration. \n",
    "'''\n",
    "def bubble_sort(arr):\n",
    "\n",
    "\t'''\n",
    "\t- flag_swap is a way to optimize the code.\n",
    "\t- If there are no swaps in a pass that would mean the array is sorted.\n",
    "\t- So, we can directly return from there.\n",
    "\t'''\n",
    "\tflag_swap = False\n",
    "\n",
    "\tlen_arr = len(arr)\n",
    "\n",
    "\tfor i in range(len_arr - 1):\n",
    "\t\tflag_swap = False\n",
    "\n",
    "\t\t# Go through the unsorted region\n",
    "\t\t# \"Bubble\" the largest element to the end. {sorted region grows from right.}\n",
    "\t\tfor j in range(1, len_arr - i):\n",
    "\t\t\tleft = arr[j-1]\n",
    "\t\t\tright = arr[j]\n",
    "\n",
    "\t\t\tif(right < left):\n",
    "\t\t\t\tflag_swap = True\n",
    "\n",
    "\t\t\t\ttemp = arr[j-1]\n",
    "\t\t\t\tarr[j-1] = arr[j]\n",
    "\t\t\t\tarr[j] = temp\n",
    "\n",
    "\t\t# If is a single pass there was no swap that would mean\n",
    "\t\t# the array is sorted.\n",
    "\t\tif(flag_swap is False):\n",
    "\t\t\treturn arr\n",
    "\n",
    "\treturn arr"
   ]
  },
  {
   "cell_type": "code",
   "execution_count": 2,
   "metadata": {},
   "outputs": [
    {
     "name": "stdout",
     "output_type": "stream",
     "text": [
      "[1, 2, 2, 2, 3, 4, 5, 6]\n"
     ]
    }
   ],
   "source": [
    "def main():\n",
    "\tunsorted_arr = [2, 2, 2, 1, 3, 5, 4, 6]\n",
    "\tsorted_arr = bubble_sort(unsorted_arr)\n",
    "\n",
    "\tprint(sorted_arr)\n",
    "\n",
    "\n",
    "\n",
    "if __name__ == '__main__':\n",
    "\tmain()"
   ]
  },
  {
   "cell_type": "code",
   "execution_count": null,
   "metadata": {},
   "outputs": [],
   "source": []
  }
 ],
 "metadata": {
  "kernelspec": {
   "display_name": "Python 3",
   "language": "python",
   "name": "python3"
  },
  "language_info": {
   "codemirror_mode": {
    "name": "ipython",
    "version": 3
   },
   "file_extension": ".py",
   "mimetype": "text/x-python",
   "name": "python",
   "nbconvert_exporter": "python",
   "pygments_lexer": "ipython3",
   "version": "3.6.9"
  }
 },
 "nbformat": 4,
 "nbformat_minor": 4
}
