{
 "cells": [
  {
   "cell_type": "code",
   "execution_count": 1,
   "metadata": {},
   "outputs": [],
   "source": [
    "# Quick Sort Computerphile: https://www.youtube.com/watch?v=XE4VP_8Y0BU\n",
    "# Cleanest QuickSort Code: https://www.youtube.com/watch?v=kFeXwkgnQ9U -> NOTE: Not doing in-place sorting here.\n",
    "\n",
    "'''\n",
    "1. Select a Pivot (right most element).\n",
    "2. Compare rest of the elements with the pivot.\n",
    "3. At the end of this comparision, elements smaller than the pivot should be on left\n",
    "   and elements greater than pivot should be on its right.\n",
    "\n",
    "<This will move the pivot point to its correct position in the array>\n",
    "\n",
    "4. Repeat 1 for left and right part.\n",
    "'''\n",
    "\n",
    "# Avg. TC: nlogn\n",
    "# Worst TC: n^2\n",
    "# Stable: No\n",
    "\n",
    "# **Non-in-place** solution of Quick Sort\n",
    "def quick_sort(arr):\n",
    "\n",
    "\tlen_arr = len(arr)\n",
    "\n",
    "\t# 1. Base Case\n",
    "\tif(len_arr <= 1):\n",
    "\t\t# the sub-array is already sorted\n",
    "\t\treturn arr\n",
    "\n",
    "\n",
    "\t# 2. Recursive Case\n",
    "\tpivot = arr.pop() \t# Choose right most element as pivot\n",
    "\n",
    "\tarr_smaller = []\n",
    "\tarr_greater = []\n",
    "\n",
    "\tfor item in arr:\n",
    "\t\tif(item < pivot):\n",
    "\t\t\tarr_smaller.append(item)\n",
    "\t\telse:\n",
    "\t\t\tarr_greater.append(item)\n",
    "\n",
    "\tsorted_arr_left = quick_sort(arr_smaller)\n",
    "\tsorted_arr_right = quick_sort(arr_greater)\n",
    "\n",
    "\n",
    "\t# 3. Current Problem\n",
    "\tsorted_arr = sorted_arr_left + [pivot] + sorted_arr_right\n",
    "\n",
    "\treturn sorted_arr"
   ]
  },
  {
   "cell_type": "code",
   "execution_count": 2,
   "metadata": {},
   "outputs": [
    {
     "name": "stdout",
     "output_type": "stream",
     "text": [
      "[1, 2, 2, 2, 3, 4, 5, 6]\n"
     ]
    }
   ],
   "source": [
    "def main():\n",
    "\tunsorted_arr = [2, 2, 2, 1, 3, 5, 4, 6]\n",
    "\tsorted_arr = quick_sort(unsorted_arr)\n",
    "\n",
    "\tprint(sorted_arr)\n",
    "\n",
    "\n",
    "\n",
    "if __name__ == '__main__':\n",
    "\tmain()"
   ]
  },
  {
   "cell_type": "code",
   "execution_count": null,
   "metadata": {},
   "outputs": [],
   "source": []
  }
 ],
 "metadata": {
  "kernelspec": {
   "display_name": "Python 3",
   "language": "python",
   "name": "python3"
  },
  "language_info": {
   "codemirror_mode": {
    "name": "ipython",
    "version": 3
   },
   "file_extension": ".py",
   "mimetype": "text/x-python",
   "name": "python",
   "nbconvert_exporter": "python",
   "pygments_lexer": "ipython3",
   "version": "3.6.9"
  }
 },
 "nbformat": 4,
 "nbformat_minor": 4
}
