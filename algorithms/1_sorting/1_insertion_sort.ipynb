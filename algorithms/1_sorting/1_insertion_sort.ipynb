{
 "cells": [
  {
   "cell_type": "code",
   "execution_count": 1,
   "metadata": {},
   "outputs": [],
   "source": [
    "# Insertion Sort CS50: https://www.youtube.com/watch?v=O0VbBkUvriI\n",
    "def insertion_sort(arr):\n",
    "\n",
    "\t# Get element from the Unsorted Region\n",
    "\tfor i_unsort in range(1, len(arr)):\n",
    "\t\t\n",
    "\t\t# Compare the element form the Unsorted Region\n",
    "\t\t# with elements in the Sorted Region till you find\n",
    "\t\t# its correct postion in the sorted region.\n",
    "\t\ti_sort = i_unsort - 1 \t\n",
    "\t\twhile ((arr[i_unsort] < arr[i_sort]) and (i_sort >= 0) ):\n",
    "\t\t\t# Swap\n",
    "\t\t\ttemp = arr[i_unsort]\n",
    "\t\t\tarr[i_unsort] = arr[i_sort]\n",
    "\t\t\tarr[i_sort] = temp\n",
    "\n",
    "\t\t\ti_unsort = i_sort # Update index of unsorted element.\n",
    "\t\t\ti_sort -= 1\t\t  # Move to the next element in the sorted region.\n",
    "\t\t\n",
    "\treturn arr"
   ]
  },
  {
   "cell_type": "code",
   "execution_count": 2,
   "metadata": {},
   "outputs": [
    {
     "name": "stdout",
     "output_type": "stream",
     "text": [
      "[1, 2, 2, 2, 3, 4, 5, 6]\n"
     ]
    }
   ],
   "source": [
    "def main():\n",
    "\tunsorted_arr = [2, 2, 2, 1, 3, 5, 4, 6]\n",
    "\tsorted_arr = insertion_sort(unsorted_arr)\n",
    "\n",
    "\tprint(sorted_arr)\n",
    "\n",
    "\n",
    "\n",
    "if __name__ == '__main__':\n",
    "\tmain()"
   ]
  },
  {
   "cell_type": "code",
   "execution_count": null,
   "metadata": {},
   "outputs": [],
   "source": []
  }
 ],
 "metadata": {
  "kernelspec": {
   "display_name": "Python 3",
   "language": "python",
   "name": "python3"
  },
  "language_info": {
   "codemirror_mode": {
    "name": "ipython",
    "version": 3
   },
   "file_extension": ".py",
   "mimetype": "text/x-python",
   "name": "python",
   "nbconvert_exporter": "python",
   "pygments_lexer": "ipython3",
   "version": "3.6.9"
  }
 },
 "nbformat": 4,
 "nbformat_minor": 4
}
