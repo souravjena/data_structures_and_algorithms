{
 "cells": [
  {
   "cell_type": "code",
   "execution_count": 1,
   "metadata": {},
   "outputs": [],
   "source": [
    "# Merge Sort CS50: https://www.youtube.com/watch?v=Ns7tGNbtvV4\n",
    "# TC: nlogn, Space: n\n",
    "\n",
    "# Helper Function for Merge Sort\n",
    "def merge(sorted_arr_left, sorted_arr_right):\n",
    "\tsorted_arr = []\n",
    "\n",
    "\tl = 0\n",
    "\tr = 0\n",
    "\tlen_left = len(sorted_arr_left)\n",
    "\tlen_right = len(sorted_arr_right)\n",
    "\n",
    "\twhile ((l < len_left) and (r < len_right)):\n",
    "\n",
    "\t\tif(sorted_arr_left[l] < sorted_arr_right[r]):\n",
    "\t\t\tsorted_arr.append(sorted_arr_left[l])\n",
    "\t\t\tl += 1\n",
    "\t\telse:\n",
    "\t\t\tsorted_arr.append(sorted_arr_right[r])\n",
    "\t\t\tr += 1\n",
    "\n",
    "\telse:\n",
    "\t\tif(l == len_left and r < len_right):\n",
    "\t\t\tsorted_arr = sorted_arr + sorted_arr_right[r:]\n",
    "\t\telif(r == len_right and l < len_left):\n",
    "\t\t\tsorted_arr = sorted_arr + sorted_arr_left[l:]\n",
    "\n",
    "\treturn sorted_arr\n",
    "\n",
    "\n",
    "# Merge Sort Function\n",
    "def merge_sort(arr):\n",
    "\n",
    "\tlen_arr = len(arr)\n",
    "\n",
    "\t# Base Case\n",
    "\tif(len_arr == 1):\n",
    "\t\t# sub-array is sorted, so return\n",
    "\t\treturn arr\n",
    "\n",
    "\t# Recursive Case\n",
    "\tmid_idx = (len_arr//2)\n",
    "\n",
    "\tsorted_arr_left = merge_sort(arr[:mid_idx])\n",
    "\tsorted_arr_right = merge_sort(arr[mid_idx:])\n",
    "\n",
    "\t# Current Problem\n",
    "\tsorted_arr = merge(sorted_arr_left, sorted_arr_right)\n",
    "\n",
    "\treturn sorted_arr"
   ]
  },
  {
   "cell_type": "code",
   "execution_count": 2,
   "metadata": {},
   "outputs": [
    {
     "name": "stdout",
     "output_type": "stream",
     "text": [
      "[1, 2, 2, 2, 3, 4, 5, 6]\n"
     ]
    }
   ],
   "source": [
    "def main():\n",
    "\tunsorted_arr = [2, 2, 2, 1, 3, 5, 4, 6]\n",
    "\tsorted_arr = merge_sort(unsorted_arr)\n",
    "\n",
    "\tprint(sorted_arr)\n",
    "\n",
    "\n",
    "\n",
    "if __name__ == '__main__':\n",
    "\tmain()"
   ]
  },
  {
   "cell_type": "code",
   "execution_count": null,
   "metadata": {},
   "outputs": [],
   "source": []
  }
 ],
 "metadata": {
  "kernelspec": {
   "display_name": "Python 3",
   "language": "python",
   "name": "python3"
  },
  "language_info": {
   "codemirror_mode": {
    "name": "ipython",
    "version": 3
   },
   "file_extension": ".py",
   "mimetype": "text/x-python",
   "name": "python",
   "nbconvert_exporter": "python",
   "pygments_lexer": "ipython3",
   "version": "3.6.9"
  }
 },
 "nbformat": 4,
 "nbformat_minor": 4
}
