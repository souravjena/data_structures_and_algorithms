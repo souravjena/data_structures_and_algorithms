{
 "cells": [
  {
   "cell_type": "markdown",
   "metadata": {},
   "source": [
    "# Square Root\n",
    "\n",
    "Prereq: Finding Boundary\n",
    "\n",
    "Given an integer, find its square root without using built-in square root function. Only return the integer part (truncate the decimals).\n",
    "\n",
    "Input: 16\n",
    "\n",
    "Output: 4\n",
    "\n",
    "Input: 8\n",
    "\n",
    "Output: 2\n",
    "\n",
    "Explanation: square root of 8 is 2.83..., return integer part 2"
   ]
  },
  {
   "cell_type": "code",
   "execution_count": 5,
   "metadata": {},
   "outputs": [
    {
     "name": "stdout",
     "output_type": "stream",
     "text": [
      "2\n"
     ]
    }
   ],
   "source": [
    "def square_root(n: int) -> int:\n",
    "    \n",
    "    ans = -1\n",
    "    \n",
    "    start = 1\n",
    "    end = n\n",
    "    \n",
    "    while (start <= end):\n",
    "        mid = (start + end)//2\n",
    "        square = mid*mid\n",
    "        \n",
    "        if(square == n):\n",
    "            return mid\n",
    "        \n",
    "        elif(square < n):\n",
    "            ans = mid\n",
    "            start = mid + 1\n",
    "            continue\n",
    "        else:\n",
    "            end = mid - 1\n",
    "    \n",
    "    return ans\n",
    "    \n",
    "\n",
    "if __name__ == '__main__':\n",
    "    n = 8\n",
    "    res = square_root(n)\n",
    "    print(res)"
   ]
  },
  {
   "cell_type": "code",
   "execution_count": null,
   "metadata": {},
   "outputs": [],
   "source": []
  }
 ],
 "metadata": {
  "kernelspec": {
   "display_name": "Python 3",
   "language": "python",
   "name": "python3"
  },
  "language_info": {
   "codemirror_mode": {
    "name": "ipython",
    "version": 3
   },
   "file_extension": ".py",
   "mimetype": "text/x-python",
   "name": "python",
   "nbconvert_exporter": "python",
   "pygments_lexer": "ipython3",
   "version": "3.6.9"
  }
 },
 "nbformat": 4,
 "nbformat_minor": 4
}
