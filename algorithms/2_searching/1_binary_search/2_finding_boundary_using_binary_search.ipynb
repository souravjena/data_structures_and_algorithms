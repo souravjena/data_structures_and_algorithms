{
 "cells": [
  {
   "cell_type": "markdown",
   "metadata": {},
   "source": [
    "# Finding Boundary with Binary Search\n",
    "\n",
    "Prereq: Binary Search Introduction\n",
    "\n",
    "An array of boolean values is divided into two sections; the left section consists of all false and the right section consists of all true. Find the boundary of the right section, i.e. the index of the first true element. If there is no true element, return -1.\n",
    "\n",
    "Input: arr = [false, false, true, true, true]\n",
    "\n",
    "Output: 2\n",
    "\n",
    "Explanation: first true's index is 2.\n",
    "\n",
    "\n",
    "## Approaches\n",
    "\n",
    "1. Boundary Index (Discard Current) - Easy\n",
    "2. Keep Prev, Curr, Next \n",
    "3. Not Discarding Current"
   ]
  },
  {
   "cell_type": "code",
   "execution_count": 6,
   "metadata": {},
   "outputs": [
    {
     "name": "stdout",
     "output_type": "stream",
     "text": [
      "2\n"
     ]
    }
   ],
   "source": [
    "# ** Boundary Index, Discard Current Apporach **\n",
    "\n",
    "from typing import List\n",
    "\n",
    "def find_boundary(arr: List[bool]) -> int:\n",
    "    \n",
    "    boundary_index = -1\n",
    "    \n",
    "    start = 0\n",
    "    end = len(arr) - 1\n",
    "    \n",
    "    \n",
    "    while (start <= end):\n",
    "        \n",
    "        mid = (start + end)//2\n",
    "        curr = arr[mid]\n",
    "        \n",
    "        if(curr is True):\n",
    "            boundary_index = mid\n",
    "            \n",
    "            # Move left, discard current\n",
    "            end = mid - 1\n",
    "        \n",
    "        else:\n",
    "            # Move right, discard current\n",
    "            start = mid + 1\n",
    "        \n",
    "    \n",
    "    return boundary_index\n",
    "            \n",
    "           \n",
    "\n",
    "if __name__ == '__main__':\n",
    "    arr = [False, False, True, True, True]\n",
    "    res = find_boundary(arr)\n",
    "    print(res)\n"
   ]
  },
  {
   "cell_type": "code",
   "execution_count": 5,
   "metadata": {},
   "outputs": [
    {
     "name": "stdout",
     "output_type": "stream",
     "text": [
      "2\n"
     ]
    }
   ],
   "source": [
    "from typing import List\n",
    "\n",
    "def find_boundary(arr: List[bool]) -> int:\n",
    "    start = 0\n",
    "    end = len(arr) - 1\n",
    "    \n",
    "    while (start <= end):\n",
    "        \n",
    "        mid = (start + end)//2\n",
    "        curr = arr[mid]\n",
    "        \n",
    "        if(mid > 0):\n",
    "            prev = arr[mid-1]\n",
    "        else:\n",
    "            prev = False\n",
    "            \n",
    "        \n",
    "        if(mid < (len(arr) - 1)):\n",
    "            nxt = arr[mid + 1]\n",
    "        else:\n",
    "            nxt = True\n",
    "            \n",
    "        \n",
    "        \n",
    "        if( (prev is False) and (curr is True) and (nxt is True) ):\n",
    "            return mid\n",
    "        \n",
    "        elif( (prev is False) and (curr is False) ):\n",
    "            start = mid + 1\n",
    "        \n",
    "        elif( (prev is True) and (curr is True) and (nxt is True) ):\n",
    "            end = mid - 1\n",
    "    \n",
    "    return -1\n",
    "            \n",
    "           \n",
    "\n",
    "if __name__ == '__main__':\n",
    "    arr = [False, False, True, True, True]\n",
    "    res = find_boundary(arr)\n",
    "    print(res)"
   ]
  },
  {
   "cell_type": "code",
   "execution_count": null,
   "metadata": {},
   "outputs": [],
   "source": []
  }
 ],
 "metadata": {
  "kernelspec": {
   "display_name": "Python 3",
   "language": "python",
   "name": "python3"
  },
  "language_info": {
   "codemirror_mode": {
    "name": "ipython",
    "version": 3
   },
   "file_extension": ".py",
   "mimetype": "text/x-python",
   "name": "python",
   "nbconvert_exporter": "python",
   "pygments_lexer": "ipython3",
   "version": "3.6.9"
  }
 },
 "nbformat": 4,
 "nbformat_minor": 4
}
