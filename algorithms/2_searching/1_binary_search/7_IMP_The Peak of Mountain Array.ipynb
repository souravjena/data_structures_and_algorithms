{
 "cells": [
  {
   "cell_type": "markdown",
   "metadata": {},
   "source": [
    "# The Peak of Mountain Array\n",
    "\n",
    "Prereq: Vanilla Binary Search and Finding Boundary with Binary Search\n",
    "\n",
    "A mountain array is defined as an array that\n",
    "\n",
    "has at least 3 elements\n",
    "let's call the element with the largest value the \"peak\", with index k. The array elements monotonically increase from the first element to A[k], and then monotonically decreases from A[k + 1] to the last element of the array. Thus creating a \"mountain\" of numbers.\n",
    "\n",
    "Find the index of the peak element. Assume there is only one peak element.\n",
    "\n",
    "Input: 0 1 2 3 2 1 0\n",
    "\n",
    "Output: 3\n",
    "\n",
    "Explanation: the largest element is 3 and its index is 3."
   ]
  },
  {
   "cell_type": "code",
   "execution_count": 2,
   "metadata": {},
   "outputs": [
    {
     "name": "stdout",
     "output_type": "stream",
     "text": [
      "3\n"
     ]
    }
   ],
   "source": [
    "from typing import List\n",
    "\n",
    "def peak_of_mountain_array(arr: List[int]) -> int:\n",
    "    \n",
    "    boundary_index = -1\n",
    "    start = 0\n",
    "    arr_end = len(arr) - 1\n",
    "    end = arr_end\n",
    "    \n",
    "    while(start <= end):\n",
    "        mid = (start + end)//2\n",
    "        curr = arr[mid]\n",
    "        nxt = arr[mid + 1]\n",
    "        \n",
    "        if( (mid == arr_end) or (curr >= nxt) ):\n",
    "            # if we are ascending the mountain; increasing slope\n",
    "            # move right\n",
    "            boundary_index = mid\n",
    "            end = mid - 1\n",
    "        else:\n",
    "            # if we are descending the mountain; decreasing slope\n",
    "            # move left\n",
    "            start = mid + 1\n",
    "\n",
    "    return boundary_index\n",
    "\n",
    "\n",
    "\n",
    "if __name__ == '__main__':\n",
    "    arr = [0, 1, 2, 3, 2, 1, 0]\n",
    "    res = peak_of_mountain_array(arr)\n",
    "    print(res)"
   ]
  },
  {
   "cell_type": "code",
   "execution_count": null,
   "metadata": {},
   "outputs": [],
   "source": []
  }
 ],
 "metadata": {
  "kernelspec": {
   "display_name": "Python 3",
   "language": "python",
   "name": "python3"
  },
  "language_info": {
   "codemirror_mode": {
    "name": "ipython",
    "version": 3
   },
   "file_extension": ".py",
   "mimetype": "text/x-python",
   "name": "python",
   "nbconvert_exporter": "python",
   "pygments_lexer": "ipython3",
   "version": "3.6.9"
  }
 },
 "nbformat": 4,
 "nbformat_minor": 4
}
