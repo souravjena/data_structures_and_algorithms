{
 "cells": [
  {
   "cell_type": "markdown",
   "metadata": {},
   "source": [
    "# First Element Not Smaller Than Target\n",
    "\n",
    "Given an array of integers sorted in increasing order and a target, find the index of the first element in the array that is larger than or equal to the target. Assume that it is guaranteed to find a satisfying number.\n",
    "\n",
    "Input:\n",
    "\n",
    "arr = [1, 3, 3, 5, 8, 8, 10]\n",
    "\n",
    "target = 2\n",
    "\n",
    "\n",
    "Output:1\n",
    "\n",
    "\n",
    "Explanation: the first element larger than 2 is 3 which has index 1.\n",
    "\n",
    "\n",
    "## Approach\n",
    "* Since the input array is sorted, we can use the **Boundary Index Approach** to find the boundary i.e the first element not smaller than target."
   ]
  },
  {
   "cell_type": "code",
   "execution_count": 2,
   "metadata": {},
   "outputs": [
    {
     "name": "stdout",
     "output_type": "stream",
     "text": [
      "2\n"
     ]
    }
   ],
   "source": [
    "from typing import List\n",
    "\n",
    "def first_not_smaller(arr: List[int], target: int) -> int:\n",
    "    \n",
    "    boundary_index = -1\n",
    "    start = 0\n",
    "    end = len(arr) - 1\n",
    "    \n",
    "    \n",
    "    while (start <= end):\n",
    "        mid = (start + end)//2\n",
    "        curr = arr[mid]\n",
    "        \n",
    "        if(curr > target):\n",
    "            boundary_index = mid\n",
    "            end = mid - 1   # move left, discard current\n",
    "        \n",
    "        else:\n",
    "            start = mid + 1 # move right, dicard current\n",
    "        \n",
    "    \n",
    "    return boundary_index\n",
    "    \n",
    "    \n",
    "    \n",
    "\n",
    "\n",
    "if __name__ == '__main__':\n",
    "    arr = [1, 1, 3, 3, 5, 8, 8, 10]\n",
    "    target = 2\n",
    "    res = first_not_smaller(arr, target)\n",
    "    print(res)"
   ]
  },
  {
   "cell_type": "code",
   "execution_count": null,
   "metadata": {},
   "outputs": [],
   "source": []
  }
 ],
 "metadata": {
  "kernelspec": {
   "display_name": "Python 3",
   "language": "python",
   "name": "python3"
  },
  "language_info": {
   "codemirror_mode": {
    "name": "ipython",
    "version": 3
   },
   "file_extension": ".py",
   "mimetype": "text/x-python",
   "name": "python",
   "nbconvert_exporter": "python",
   "pygments_lexer": "ipython3",
   "version": "3.6.9"
  }
 },
 "nbformat": 4,
 "nbformat_minor": 4
}
