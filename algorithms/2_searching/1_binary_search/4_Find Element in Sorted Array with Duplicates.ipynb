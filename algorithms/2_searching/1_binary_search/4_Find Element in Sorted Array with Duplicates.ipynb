{
 "cells": [
  {
   "cell_type": "markdown",
   "metadata": {},
   "source": [
    "# Find Element in Sorted Array with Duplicates\n",
    "\n",
    "Given a sorted array of integers and a target integer, find the first occurrence of the target and return its index. Return -1 if the target is not in the array.\n",
    "\n",
    "\n",
    "Input:\n",
    "\n",
    "arr = [1, 3, 3, 3, 3, 6, 10, 10, 10, 100]\n",
    "\n",
    "target = 3\n",
    "\n",
    "\n",
    "Output: 1\n",
    "\n",
    "\n",
    "Explanation: First occurrence of 3 is at index 1."
   ]
  },
  {
   "cell_type": "code",
   "execution_count": 2,
   "metadata": {},
   "outputs": [
    {
     "name": "stdout",
     "output_type": "stream",
     "text": [
      "6\n"
     ]
    }
   ],
   "source": [
    "# ** Boundary Index Approach **\n",
    "from typing import List\n",
    "\n",
    "def find_first_occurrence(arr: List[int], target: int) -> int:\n",
    "   \n",
    "    boundary_index = -1\n",
    "    start = 0\n",
    "    end = len(arr) - 1\n",
    "    \n",
    "    \n",
    "    while (start <= end):\n",
    "        mid = (start + end)//2\n",
    "        curr = arr[mid]\n",
    "        \n",
    "        if(curr >= target):\n",
    "            boundary_index = mid\n",
    "            end = mid - 1    # move right, discard current\n",
    "        else:\n",
    "            start = mid + 1  # move left, discard current      \n",
    "        \n",
    "    # If target is not there then boundary index will point to the\n",
    "    # end element in the array\n",
    "    if(arr[boundary_index] == target):\n",
    "        return boundary_index\n",
    "    else:\n",
    "        return -1\n",
    "\n",
    "\n",
    "if __name__ == '__main__':\n",
    "    arr = [1, 3, 3, 3, 3, 6, 10, 10, 10, 100]\n",
    "    target = 10\n",
    "    res = find_first_occurrence(arr, target)\n",
    "    print(res)"
   ]
  },
  {
   "cell_type": "code",
   "execution_count": null,
   "metadata": {},
   "outputs": [],
   "source": []
  }
 ],
 "metadata": {
  "kernelspec": {
   "display_name": "Python 3",
   "language": "python",
   "name": "python3"
  },
  "language_info": {
   "codemirror_mode": {
    "name": "ipython",
    "version": 3
   },
   "file_extension": ".py",
   "mimetype": "text/x-python",
   "name": "python",
   "nbconvert_exporter": "python",
   "pygments_lexer": "ipython3",
   "version": "3.6.9"
  }
 },
 "nbformat": 4,
 "nbformat_minor": 4
}
