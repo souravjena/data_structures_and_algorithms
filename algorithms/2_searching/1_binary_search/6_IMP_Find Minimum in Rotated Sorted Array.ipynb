{
 "cells": [
  {
   "cell_type": "markdown",
   "metadata": {},
   "source": [
    "# Find Minimum in Rotated Sorted Array\n",
    "\n",
    "Prereq: Vanilla Binary Search and Finding Boundary with Binary Search\n",
    "\n",
    "A sorted array was rotated at an unknown pivot. For example, [10, 20, 30, 40, 50] becomes [30, 40, 50, 10, 20]. Find the index of the minimum element in this array.\n",
    "\n",
    "Input: [30, 40, 50, 10, 20]\n",
    "\n",
    "Output: 3\n",
    "\n",
    "Explanation: the smallest element is 10 and its index is 3."
   ]
  },
  {
   "cell_type": "code",
   "execution_count": 2,
   "metadata": {},
   "outputs": [
    {
     "name": "stdout",
     "output_type": "stream",
     "text": [
      "4\n"
     ]
    }
   ],
   "source": [
    "from typing import List\n",
    "\n",
    "def find_min_rotated(arr: List[int]) -> int:\n",
    "    \n",
    "    boundary_index = 0\n",
    "    \n",
    "    start = 0\n",
    "    end = len(arr) - 1\n",
    "    \n",
    "    min_left_part = arr[0]\n",
    "    max_right_part = arr[end]\n",
    "    \n",
    "    while (start <= end):\n",
    "        mid = (start + end)//2\n",
    "        curr = arr[mid]\n",
    "        \n",
    "        if( curr < max_right_part ):\n",
    "            boundary_index = mid\n",
    "            end = mid - 1        # move left\n",
    "        \n",
    "        else:\n",
    "            start = mid + 1      # move right\n",
    "            \n",
    "     \n",
    "    return boundary_index\n",
    "        \n",
    "\n",
    "if __name__ == '__main__':\n",
    "    arr = [30, 40, 50, 60, 10, 20]\n",
    "    res = find_min_rotated(arr)\n",
    "    print(res)"
   ]
  },
  {
   "cell_type": "code",
   "execution_count": null,
   "metadata": {},
   "outputs": [],
   "source": []
  }
 ],
 "metadata": {
  "kernelspec": {
   "display_name": "Python 3",
   "language": "python",
   "name": "python3"
  },
  "language_info": {
   "codemirror_mode": {
    "name": "ipython",
    "version": 3
   },
   "file_extension": ".py",
   "mimetype": "text/x-python",
   "name": "python",
   "nbconvert_exporter": "python",
   "pygments_lexer": "ipython3",
   "version": "3.6.9"
  }
 },
 "nbformat": 4,
 "nbformat_minor": 4
}
