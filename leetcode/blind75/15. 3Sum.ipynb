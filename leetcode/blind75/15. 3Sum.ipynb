{
 "cells": [
  {
   "cell_type": "markdown",
   "metadata": {},
   "source": [
    "URL: https://leetcode.com/problems/3sum/\n",
    "\n",
    "\"Ref: https://www.youtube.com/watch?v=8uWRUyWpy8M\n",
    "* 3Sum using Two-Sum-II\n",
    "* Hard: Skip duplicate elements to prevent having similar ans in the final list.\n",
    "\""
   ]
  },
  {
   "cell_type": "code",
   "execution_count": 2,
   "metadata": {},
   "outputs": [],
   "source": [
    "from typing import *\n",
    "\n",
    "class Solution:\n",
    "    def threeSum(self, nums: List[int]) -> List[List[int]]:\n",
    "        \n",
    "        \n",
    "        ans = []\n",
    "        nums.sort()\n",
    "        \n",
    "        for i in range(len(nums)-2):\n",
    "            \n",
    "            if i > 0 and nums[i] == nums[i-1]:\n",
    "                continue\n",
    "            \n",
    "            ptr_l = i + 1\n",
    "            ptr_r = len(nums) - 1\n",
    "            \n",
    "            while ptr_l < ptr_r:\n",
    "                s = nums[i] + nums[ptr_l] + nums[ptr_r]\n",
    "                \n",
    "                if s < 0:\n",
    "                    ptr_l +=1 \n",
    "                \n",
    "                elif s > 0:\n",
    "                    ptr_r -= 1\n",
    "                \n",
    "                else:\n",
    "                    ans.append((nums[i], nums[ptr_l], nums[ptr_r]))\n",
    "                    \n",
    "                    # Skip duplicate numbers\n",
    "                    while ptr_l < ptr_r and nums[ptr_l] == nums[ptr_l+1]:\n",
    "                        ptr_l += 1\n",
    "                    while ptr_l < ptr_r and nums[ptr_r] == nums[ptr_r-1]:\n",
    "                        ptr_r -= 1\n",
    "                    \n",
    "                    ptr_l += 1\n",
    "                    ptr_r -= 1\n",
    "        \n",
    "        return ans"
   ]
  },
  {
   "cell_type": "code",
   "execution_count": null,
   "metadata": {},
   "outputs": [],
   "source": []
  }
 ],
 "metadata": {
  "kernelspec": {
   "display_name": "Python 3",
   "language": "python",
   "name": "python3"
  },
  "language_info": {
   "codemirror_mode": {
    "name": "ipython",
    "version": 3
   },
   "file_extension": ".py",
   "mimetype": "text/x-python",
   "name": "python",
   "nbconvert_exporter": "python",
   "pygments_lexer": "ipython3",
   "version": "3.6.9"
  }
 },
 "nbformat": 4,
 "nbformat_minor": 4
}
