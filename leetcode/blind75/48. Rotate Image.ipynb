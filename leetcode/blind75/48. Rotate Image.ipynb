{
 "cells": [
  {
   "cell_type": "markdown",
   "metadata": {},
   "source": [
    "URL: https://leetcode.com/problems/rotate-image/\n",
    "    \n",
    "\"* Approach 2: Transpose then Reverse \n",
    "* Approach 2: Transpose then Reverse  is much simpler to understand and implement than Approach 1: Rotate Groups of Four Cells\n",
    "\n",
    "- To rotate a square matrix by 90 degree clockwise\n",
    "1. Transpose the Matrix -> Row to Col.\n",
    "2. Then Reverse/Flip the Matrix vertically -> 1st col becomes last col. and so on.\n",
    "\n",
    "* For transpose: # important: Go through elements of North East Triangle and swap them -> row, col -> col, row\n",
    "\n",
    "\""
   ]
  },
  {
   "cell_type": "code",
   "execution_count": 2,
   "metadata": {},
   "outputs": [],
   "source": [
    "from typing import *\n",
    "\n",
    "class Solution:\n",
    "    def rotate(self, matrix: List[List[int]]) -> None:\n",
    "        \"\"\"\n",
    "        Do not return anything, modify matrix in-place instead.\n",
    "        \"\"\"\n",
    "        \n",
    "        self.mat_transpose(matrix)\n",
    "        self.mat_reverse(matrix)\n",
    "        \n",
    "        \n",
    "    \n",
    "    def mat_transpose(self, matrix):\n",
    "        len_mat = len(matrix)\n",
    "        \n",
    "        for row in range(len_mat - 1):\n",
    "            for col in range(row, len_mat):\n",
    "                # important: Go through elements of North East Triangle\n",
    "                temp = matrix[row][col]\n",
    "                matrix[row][col] = matrix[col][row]\n",
    "                matrix[col][row] = temp\n",
    "            print(\"\")\n",
    "            \n",
    "    \n",
    "    \n",
    "    def mat_reverse(self, matrix):\n",
    "        len_mat = len(matrix)\n",
    "        \n",
    "        for row in range(len_mat):\n",
    "            for col in range(len_mat // 2):\n",
    "                temp  = matrix[row][col]\n",
    "                matrix[row][col] = matrix[row][len_mat - 1 - col]\n",
    "                matrix[row][len_mat - 1 - col] = temp\n"
   ]
  },
  {
   "cell_type": "code",
   "execution_count": null,
   "metadata": {},
   "outputs": [],
   "source": []
  }
 ],
 "metadata": {
  "kernelspec": {
   "display_name": "Python 3",
   "language": "python",
   "name": "python3"
  },
  "language_info": {
   "codemirror_mode": {
    "name": "ipython",
    "version": 3
   },
   "file_extension": ".py",
   "mimetype": "text/x-python",
   "name": "python",
   "nbconvert_exporter": "python",
   "pygments_lexer": "ipython3",
   "version": "3.6.9"
  }
 },
 "nbformat": 4,
 "nbformat_minor": 4
}
