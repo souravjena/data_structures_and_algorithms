{
 "cells": [
  {
   "cell_type": "markdown",
   "metadata": {},
   "source": [
    "URL: https://leetcode.com/problems/two-sum/\n",
    "\n",
    "\"* Hashmap - <arr_element, arr_index>\n",
    "\n",
    "1. Go through each element of the array.\n",
    "2. Check if target-curr exists in the hashmap or not.\n",
    "3. If yes, return index of curr and (target-curr)\n",
    "4. If no, insert curr & its index in the hashmap.\""
   ]
  },
  {
   "cell_type": "code",
   "execution_count": 3,
   "metadata": {},
   "outputs": [],
   "source": [
    "from typing import *\n",
    "\n",
    "class Solution:\n",
    "    def twoSum(self, nums: List[int], target: int) -> List[int]:\n",
    "        \n",
    "        hashmap = {}  # (the number, its index)\n",
    "        ans = []\n",
    "        \n",
    "        for i in range(0, len(nums)):\n",
    "            \n",
    "            curr = nums[i]\n",
    "            other = target - curr\n",
    "            \n",
    "            if(other in hashmap):\n",
    "                ans.append(i)\n",
    "                ans.append(hashmap[other])\n",
    "                \n",
    "                return ans      # return because only one valid ans exists\n",
    "            \n",
    "            else:\n",
    "                hashmap[curr] = i\n"
   ]
  },
  {
   "cell_type": "code",
   "execution_count": null,
   "metadata": {},
   "outputs": [],
   "source": []
  }
 ],
 "metadata": {
  "kernelspec": {
   "display_name": "Python 3",
   "language": "python",
   "name": "python3"
  },
  "language_info": {
   "codemirror_mode": {
    "name": "ipython",
    "version": 3
   },
   "file_extension": ".py",
   "mimetype": "text/x-python",
   "name": "python",
   "nbconvert_exporter": "python",
   "pygments_lexer": "ipython3",
   "version": "3.6.9"
  }
 },
 "nbformat": 4,
 "nbformat_minor": 4
}
