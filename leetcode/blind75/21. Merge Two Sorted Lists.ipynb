{
 "cells": [
  {
   "cell_type": "markdown",
   "metadata": {},
   "source": [
    "URL: https://leetcode.com/problems/merge-two-sorted-lists/\n",
    "\n",
    "\"* Use dummy node to handle edge cases.\n",
    "0. Consider a dummy node as the head of your final LL.\n",
    "1. Use two pointers to point and the head of the two LL.\n",
    "2. Compare the values at the two pointers.\n",
    "3. Connect the smaller node with the final LL.\n",
    "4. Increment the pointer pointing to the smaller node.\n",
    "5. Update the tail of the final LL.\n",
    "6. Return dummy_node.next\n",
    "\""
   ]
  },
  {
   "cell_type": "code",
   "execution_count": 2,
   "metadata": {},
   "outputs": [],
   "source": [
    "from typing import *\n",
    "\n",
    "# Definition for singly-linked list.\n",
    "\n",
    "class ListNode:\n",
    "    def __init__(self, val=0, next=None):\n",
    "        self.val = val\n",
    "        self.next = next\n",
    "\n",
    "\n",
    "class Solution:\n",
    "    def mergeTwoLists(self, l1: Optional[ListNode], l2: Optional[ListNode]) -> Optional[ListNode]:\n",
    "        \n",
    "        \n",
    "        # ** Using Dummy Node Technique **\n",
    "        \n",
    "        node_dummy = ListNode(0, None)\n",
    "        tail = node_dummy               # 1. Initially tail of the output will point dummy node\n",
    "        \n",
    "        ptr1 = l1                       # 2. ptr1 and ptr2 will move through l1 and l2\n",
    "        ptr2 = l2\n",
    "        \n",
    "        # Go through each element of l1 and l2\n",
    "        while ((ptr1 != None) and (ptr2 != None)):\n",
    "            \n",
    "            # If value at ptr1 is less than value at ptr2\n",
    "            if (ptr1.val < ptr2.val):\n",
    "    \n",
    "                tail.next = ptr1  # connect node at ptr1 with the output node\n",
    "                ptr1 = ptr1.next  # increment ptr1\n",
    "            \n",
    "            else:\n",
    "                \n",
    "                tail.next = ptr2\n",
    "                ptr2 = ptr2.next\n",
    "                \n",
    "            \n",
    "            tail = tail.next  # Update tail\n",
    "            \n",
    "        \n",
    "        # If there are still some elements in either l1 or l2\n",
    "        # connect the remaining nodes with the final LL\n",
    "        if (ptr1 != None):\n",
    "            tail.next = ptr1\n",
    "        elif(ptr2 != None):\n",
    "            tail.next = ptr2\n",
    "        \n",
    "        # return the head of the final LL\n",
    "        return node_dummy.next\n"
   ]
  },
  {
   "cell_type": "code",
   "execution_count": null,
   "metadata": {},
   "outputs": [],
   "source": []
  }
 ],
 "metadata": {
  "kernelspec": {
   "display_name": "Python 3",
   "language": "python",
   "name": "python3"
  },
  "language_info": {
   "codemirror_mode": {
    "name": "ipython",
    "version": 3
   },
   "file_extension": ".py",
   "mimetype": "text/x-python",
   "name": "python",
   "nbconvert_exporter": "python",
   "pygments_lexer": "ipython3",
   "version": "3.6.9"
  }
 },
 "nbformat": 4,
 "nbformat_minor": 4
}
