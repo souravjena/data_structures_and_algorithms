{
 "cells": [
  {
   "cell_type": "markdown",
   "metadata": {},
   "source": [
    "URL: https://leetcode.com/problems/valid-parentheses/\n",
    "\n",
    "\"* Stack\n",
    "1. Push open brackets\n",
    "2. When closing bracket is encountered, pop and check\n",
    "\n",
    "* Handle Edge Cases properly -> \"\"(\"\", \"\"]\"\". \"\"]]\"\"\""
   ]
  },
  {
   "cell_type": "code",
   "execution_count": 1,
   "metadata": {},
   "outputs": [],
   "source": [
    "from typing import *\n",
    "\n",
    "class Solution:\n",
    "    def isValid(self, s: str) -> bool:\n",
    "        \n",
    "        stack = []\n",
    "        \n",
    "        for c in s:\n",
    "            \n",
    "            # Push Open Bracket\n",
    "            if ((c == '(') or (c == '{') or (c == '[')):\n",
    "                stack.append(c)\n",
    "            \n",
    "            # Match Close Bracket\n",
    "            elif ((c == ')') or (c == '}') or (c == ']')):\n",
    "                \n",
    "                if(len(stack) != 0):\n",
    "                    top = stack.pop()\n",
    "                    \n",
    "                    if ((c == ')') and (top != '(')):\n",
    "                        return False\n",
    "                \n",
    "                    elif ((c == '}') and (top != '{')):\n",
    "                        return False\n",
    "\n",
    "                    elif ((c == ']') and (top != '[')):\n",
    "                        return False\n",
    "                \n",
    "                else:\n",
    "                    return False\n",
    "                \n",
    "                \n",
    "                \n",
    "        if(len(stack) == 0):\n",
    "            return True\n",
    "        else:\n",
    "            return False"
   ]
  },
  {
   "cell_type": "code",
   "execution_count": null,
   "metadata": {},
   "outputs": [],
   "source": []
  }
 ],
 "metadata": {
  "kernelspec": {
   "display_name": "Python 3",
   "language": "python",
   "name": "python3"
  },
  "language_info": {
   "codemirror_mode": {
    "name": "ipython",
    "version": 3
   },
   "file_extension": ".py",
   "mimetype": "text/x-python",
   "name": "python",
   "nbconvert_exporter": "python",
   "pygments_lexer": "ipython3",
   "version": "3.6.9"
  }
 },
 "nbformat": 4,
 "nbformat_minor": 4
}
