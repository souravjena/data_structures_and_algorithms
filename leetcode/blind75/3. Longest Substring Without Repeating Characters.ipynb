{
 "cells": [
  {
   "cell_type": "markdown",
   "metadata": {},
   "source": [
    "URL: https://leetcode.com/problems/longest-substring-without-repeating-characters/\n",
    "\n",
    "\"* Ref: https://redquark.org/leetcode/0003-longest-substring-without-repeating-characters/\n",
    "* Use Sliding Window of Dynamic Size\n",
    "* Use a set to store unique elements in the Sliding Window\n",
    "\n",
    "1. Grow the sliding window (SW) form the left.\n",
    "2. If the newly added element in the SW doesnot exist add that element in the set and update max_len.\n",
    "3. If it exists slide right the SW by 1. Keep sliding the window towards right till you remove the duplicate element.\""
   ]
  },
  {
   "cell_type": "code",
   "execution_count": 3,
   "metadata": {},
   "outputs": [],
   "source": [
    "from typing import *\n",
    "\n",
    "class Solution:\n",
    "    def lengthOfLongestSubstring(self, s: str) -> int:\n",
    "        \n",
    "        # T: O(n)\n",
    "        # S: O(n)\n",
    "        # ** Sliding Window Technique **\n",
    "        \n",
    "        end = 0         # end-index of the sliding window\n",
    "        start = 0       # start-index of the sliding window\n",
    "        max_len = 0     # stores max length of the sliding window\n",
    "        \n",
    "        unique_chars_sw = set()     # set to store all the unique chars in the sliding window\n",
    "        \n",
    "        # Go through each element of the string, once. -> O(n)\n",
    "        while end < len(s):\n",
    "            \n",
    "            # Check if the last added element in the sliding window exists in the set or not\n",
    "            if s[end] not in unique_chars_sw:\n",
    "                unique_chars_sw.add(s[end])    # Add the unique char in the set\n",
    "                end += 1                       # Slide the end of the sliding window towards left\n",
    "                max_len = max(max_len, len(unique_chars_sw)) # Update max_len\n",
    "                \n",
    "            # If the char exists slide the start towards right\n",
    "            # and remove that element from the set\n",
    "            else:\n",
    "                unique_chars_sw.remove(s[start])\n",
    "                start += 1\n",
    "            \n",
    "        \n",
    "        return max_len"
   ]
  },
  {
   "cell_type": "code",
   "execution_count": null,
   "metadata": {},
   "outputs": [],
   "source": []
  }
 ],
 "metadata": {
  "kernelspec": {
   "display_name": "Python 3",
   "language": "python",
   "name": "python3"
  },
  "language_info": {
   "codemirror_mode": {
    "name": "ipython",
    "version": 3
   },
   "file_extension": ".py",
   "mimetype": "text/x-python",
   "name": "python",
   "nbconvert_exporter": "python",
   "pygments_lexer": "ipython3",
   "version": "3.6.9"
  }
 },
 "nbformat": 4,
 "nbformat_minor": 4
}
