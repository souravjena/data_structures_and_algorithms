{
 "cells": [
  {
   "cell_type": "markdown",
   "metadata": {},
   "source": [
    "\"* Expand Around Center Approach: https://www.youtube.com/watch?v=XYQecbcd6_c\n",
    "* Edge Case: Even length String\n",
    "* A palindrome is mirrored around its center.\n",
    "\n",
    "1. Iterate through each element of the array and consider them as the center of your palindrome.\n",
    "2. From that center exapand in left and exapnd in right by 1 step each time and check if arr[left] == arr[right].\n",
    "3. Do this twice, first, assuming odd len palindrome and then assuming an even len palindrome\n",
    "4. Take the largest of the two and compare it with the largest palindrome so far.\n",
    "\n",
    "\n",
    " \""
   ]
  },
  {
   "cell_type": "code",
   "execution_count": 1,
   "metadata": {},
   "outputs": [],
   "source": [
    "from typing import *\n",
    "\n",
    "class Solution:\n",
    "    \n",
    "    def longestPalindrome(self, s: str) -> str:\n",
    "        \n",
    "        ans_str = \"\"\n",
    "        len_max = float(\"-inf\")\n",
    "        \n",
    "        # Edge Case\n",
    "        if(len(s) <= 1):\n",
    "            return s\n",
    "        \n",
    "        # Taking each element in the str-s as mid expand around it.\n",
    "        for mid in range(len(s)):\n",
    "            \n",
    "            start_o, end_o, len_o = self.expand_around_center(s, mid, mid)     # for odd length palindrome\n",
    "            start_e, end_e, len_e = self.expand_around_center(s, mid, mid+1)   # for even length palindrome\n",
    "            \n",
    "            # Update the largest Palindrome\n",
    "            if(len_o > len_e and len_o > len_max):\n",
    "                len_max = len_o\n",
    "                ans_str = s[start_o:end_o+1]\n",
    "            \n",
    "            elif(len_e > len_o and len_e > len_max):\n",
    "                len_max = len_e\n",
    "                ans_str = s[start_e:end_e+1]\n",
    "                \n",
    "        \n",
    "        return ans_str\n",
    "    \n",
    "    \n",
    "    \n",
    "    def expand_around_center(self, s: str, left: int, right: int) -> Union[int, int, int]:\n",
    "        \n",
    "        l = left\n",
    "        r = right\n",
    "        \n",
    "        while( (l >= 0 and r < len(s)) and (s[l] == s[r]) ):\n",
    "            l -= 1\n",
    "            r += 1\n",
    "        \n",
    "        return l+1, r-1, (r - l + 1)\n"
   ]
  },
  {
   "cell_type": "code",
   "execution_count": null,
   "metadata": {},
   "outputs": [],
   "source": []
  }
 ],
 "metadata": {
  "kernelspec": {
   "display_name": "Python 3",
   "language": "python",
   "name": "python3"
  },
  "language_info": {
   "codemirror_mode": {
    "name": "ipython",
    "version": 3
   },
   "file_extension": ".py",
   "mimetype": "text/x-python",
   "name": "python",
   "nbconvert_exporter": "python",
   "pygments_lexer": "ipython3",
   "version": "3.6.9"
  }
 },
 "nbformat": 4,
 "nbformat_minor": 4
}
