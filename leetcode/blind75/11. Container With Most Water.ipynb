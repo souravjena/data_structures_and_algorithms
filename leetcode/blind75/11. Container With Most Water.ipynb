{
 "cells": [
  {
   "cell_type": "markdown",
   "metadata": {},
   "source": [
    "URL: https://leetcode.com/problems/container-with-most-water/\n",
    "\n",
    "\"** Two Pointer Approach **, T: O(n), S: O(1)\n",
    "     \n",
    "1. Initialized Left and Right Pointer\n",
    "\n",
    "2. Compute Volume of Water between the two Pointers\n",
    "\n",
    "3. Slide the Left/Right Pointer, whichever is smaller\n",
    "Note[imp]: If ht_l == ht_r then we can move either left ptr or right,\n",
    "it won't matter, since volume depends on only the smaller ht.\n",
    "\n",
    "4. Update vol_max\n",
    " \n",
    "5. Repeat 2.\""
   ]
  },
  {
   "cell_type": "code",
   "execution_count": 2,
   "metadata": {},
   "outputs": [],
   "source": [
    "from typing import *\n",
    "\n",
    "class Solution:\n",
    "    def maxArea(self, height: List[int]) -> int:\n",
    "        \n",
    "        # ** Two Pointer Approach **, T: O(n), S: O(1)\n",
    "        vol_curr = 0\n",
    "        vol_max = float('-inf')\n",
    "        \n",
    "        # 1. Initialized Left and Right Pointer\n",
    "        ptr_l = 0\n",
    "        ptr_r = len(height) - 1\n",
    "        \n",
    "        \n",
    "        while(ptr_l <= ptr_r):\n",
    "            # 2. Compute Volume of Water between the two Pointers\n",
    "            ht_l = height[ptr_l]\n",
    "            ht_r = height[ptr_r]\n",
    "\n",
    "\n",
    "            # 3. Slide the Left/Right Pointer, whichever is smaller\n",
    "            # Note[imp]: If ht_l == ht_r then we can move either left ptr or right,\n",
    "            # it won't matter, since volume depends on only the smaller ht.\n",
    "\n",
    "            if ht_l < ht_r:\n",
    "                ptr_l += 1\n",
    "\n",
    "                vol_curr = ht_l * (ptr_r - ptr_l + 1)\n",
    "            else:\n",
    "                ptr_r -= 1\n",
    "\n",
    "                vol_curr = ht_r * (ptr_r - ptr_l + 1)\n",
    "\n",
    "\n",
    "            # 4. Update vol_max\n",
    "            if(vol_curr > vol_max):\n",
    "                vol_max = vol_curr\n",
    "\n",
    "            # 5. Repeat 2.\n",
    "        \n",
    "        return vol_max\n",
    "        "
   ]
  },
  {
   "cell_type": "code",
   "execution_count": null,
   "metadata": {},
   "outputs": [],
   "source": []
  }
 ],
 "metadata": {
  "kernelspec": {
   "display_name": "Python 3",
   "language": "python",
   "name": "python3"
  },
  "language_info": {
   "codemirror_mode": {
    "name": "ipython",
    "version": 3
   },
   "file_extension": ".py",
   "mimetype": "text/x-python",
   "name": "python",
   "nbconvert_exporter": "python",
   "pygments_lexer": "ipython3",
   "version": "3.6.9"
  }
 },
 "nbformat": 4,
 "nbformat_minor": 4
}
