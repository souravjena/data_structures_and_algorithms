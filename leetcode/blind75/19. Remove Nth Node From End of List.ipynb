{
 "cells": [
  {
   "cell_type": "markdown",
   "metadata": {},
   "source": [
    "URL: https://leetcode.com/problems/remove-nth-node-from-end-of-list/\n",
    "\n",
    "* Two Approaches\n",
    "1. Hashmap Approach - Easy\n",
    "2. Two Pointers Approach - Hard"
   ]
  },
  {
   "cell_type": "markdown",
   "metadata": {},
   "source": [
    "# Hashmap Approach\n",
    "\n",
    "\"* Using Hashmap, one pass solution\n",
    "\n",
    "- While going through the LL, store position as Key and Address as Value.\n",
    "- After you have gone through the entire list use the Hashmap to find the prev node and next node.\n",
    "- Just connect them.\n",
    "- Handle edge cases -> 1st element remove, last element remove -> as these wont have prev_node and next_node respectively.\n",
    "\""
   ]
  },
  {
   "cell_type": "code",
   "execution_count": 3,
   "metadata": {},
   "outputs": [],
   "source": [
    "# Definition for singly-linked list.\n",
    "class ListNode:\n",
    "    def __init__(self, val=0, next=None):\n",
    "        self.val = val\n",
    "        self.next = next\n",
    "\n",
    "\n",
    "class Solution:\n",
    "    def removeNthFromEnd(self, head: Optional[ListNode], n: int) -> Optional[ListNode]:\n",
    "        \n",
    "        hashmap = {}\n",
    "        pos = 0\n",
    "        node_curr = head\n",
    "        \n",
    "        while(node_curr != None):\n",
    "            \n",
    "            hashmap[pos] = node_curr\n",
    "            \n",
    "            node_curr = node_curr.next\n",
    "            pos += 1\n",
    "        \n",
    "        \n",
    "        # Node to be removed\n",
    "        pos_rm = pos - n\n",
    "        \n",
    "        if(pos_rm == 0):\n",
    "            head = head.next\n",
    "            return head\n",
    "        \n",
    "        if(pos_rm == pos-1):\n",
    "            node_pre = hashmap[pos_rm-1]\n",
    "            node_pre.next = None\n",
    "            return head\n",
    "            \n",
    "        if(pos > 2):\n",
    "            node_pre = hashmap[pos_rm - 1]    \n",
    "            node_del = hashmap[pos_rm]\n",
    "            node_nxt = hashmap[pos_rm + 1]\n",
    "\n",
    "            node_pre.next = node_nxt\n",
    "        \n",
    "        \n",
    "        \n",
    "        return head"
   ]
  },
  {
   "cell_type": "markdown",
   "metadata": {},
   "source": [
    "# Two Pointer Approach\n",
    "\n",
    "\"* Two Pointer Apporach with Dummy Node\n",
    "* Two Pointer with N+1 gap won't work for the case {[1, 2], n = 2}\n",
    "\n",
    "1. Insert a Dummy Node at the Beginning of our LL.\n",
    "2. Start Left Ptr = Dummy Node\n",
    "3. Move right_ptr  to nth postion.\n",
    "4. Keep moving left and right ptr left tilll right ptr reaches end.\n",
    "5. left ptr at previous node, so connect it with its next to next node.\n",
    "6. Return Dummy Node.next\""
   ]
  },
  {
   "cell_type": "code",
   "execution_count": 4,
   "metadata": {},
   "outputs": [],
   "source": [
    "from typing import *\n",
    "\n",
    "# Definition for singly-linked list.\n",
    "class ListNode:\n",
    "    def __init__(self, val=0, next=None):\n",
    "        self.val = val\n",
    "        self.next = next\n",
    "\n",
    "\n",
    "class Solution:\n",
    "    def removeNthFromEnd(self, head: Optional[ListNode], n: int) -> Optional[ListNode]:\n",
    "        \n",
    "        # ** Two Pointer Solution with Dummy Node **\n",
    "        \n",
    "        node_dummy = ListNode(0, head)  # Insert a Dummy Node at the Beginning\n",
    "        node_left = node_dummy\n",
    "        node_right = head\n",
    "        i = 0\n",
    "        \n",
    "\n",
    "        # Move Node Right to its start position\n",
    "        while ((i != n) and (node_right != None)):\n",
    "            node_right = node_right.next\n",
    "            i += 1\n",
    "            \n",
    "        \n",
    "        # Move both left and right pointer\n",
    "        while(node_right != None):\n",
    "            node_left = node_left.next\n",
    "            node_right = node_right.next\n",
    "            \n",
    "       \n",
    "        \n",
    "        node_left.next = node_left.next.next\n",
    "        \n",
    "        return node_dummy.next"
   ]
  },
  {
   "cell_type": "code",
   "execution_count": null,
   "metadata": {},
   "outputs": [],
   "source": []
  }
 ],
 "metadata": {
  "kernelspec": {
   "display_name": "Python 3",
   "language": "python",
   "name": "python3"
  },
  "language_info": {
   "codemirror_mode": {
    "name": "ipython",
    "version": 3
   },
   "file_extension": ".py",
   "mimetype": "text/x-python",
   "name": "python",
   "nbconvert_exporter": "python",
   "pygments_lexer": "ipython3",
   "version": "3.6.9"
  }
 },
 "nbformat": 4,
 "nbformat_minor": 4
}
